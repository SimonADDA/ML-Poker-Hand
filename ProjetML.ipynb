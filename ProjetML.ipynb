{
  "nbformat": 4,
  "nbformat_minor": 0,
  "metadata": {
    "colab": {
      "name": "ProjetML.ipynb",
      "private_outputs": true,
      "provenance": [],
      "collapsed_sections": [],
      "authorship_tag": "ABX9TyNvhfHjyOFGEMzteVIV/iqZ",
      "include_colab_link": true
    },
    "kernelspec": {
      "name": "python3",
      "display_name": "Python 3"
    },
    "language_info": {
      "name": "python"
    }
  },
  "cells": [
    {
      "cell_type": "markdown",
      "metadata": {
        "id": "view-in-github",
        "colab_type": "text"
      },
      "source": [
        "<a href=\"https://colab.research.google.com/github/SimonADDA/ML-Poker-Hand/blob/main/ProjetML.ipynb\" target=\"_parent\"><img src=\"https://colab.research.google.com/assets/colab-badge.svg\" alt=\"Open In Colab\"/></a>"
      ]
    },
    {
      "cell_type": "code",
      "metadata": {
        "id": "JePaOEqR5MRk"
      },
      "source": [
        "import pandas as pd\n",
        "# reading csv files\n",
        "df =  pd.read_csv('poker.data',sep=',',header=None)\n",
        "print(df)"
      ],
      "execution_count": null,
      "outputs": []
    },
    {
      "cell_type": "code",
      "metadata": {
        "id": "PwGu05t65Y_T"
      },
      "source": [
        "df.head()"
      ],
      "execution_count": null,
      "outputs": []
    },
    {
      "cell_type": "code",
      "metadata": {
        "id": "U72B58j07sEx"
      },
      "source": [
        "df=df.rename(columns={0: \"S1\",1: \"C1\",2: \"S2\",3: \"C2\",4: \"S3\",5: \"C3\",6: \"S4\",7: \"C4\",8: \"S5\",9: \"C5\",10: \"target\"})\n",
        "df.head()"
      ],
      "execution_count": null,
      "outputs": []
    },
    {
      "cell_type": "code",
      "metadata": {
        "id": "XWU3tPmHKGoy"
      },
      "source": [
        "df.dtypes"
      ],
      "execution_count": null,
      "outputs": []
    },
    {
      "cell_type": "code",
      "metadata": {
        "id": "pHi46flGbtgS"
      },
      "source": [
        "df.describe()"
      ],
      "execution_count": null,
      "outputs": []
    },
    {
      "cell_type": "code",
      "metadata": {
        "id": "WAgwLKbfcaoI"
      },
      "source": [
        "import pandas as pd\n",
        "import seaborn as sns\n",
        "import matplotlib.pyplot as plt\n",
        "\n",
        "print(df['target'].describe())\n",
        "plt.figure(figsize=(9, 8))\n",
        "sns.distplot(df['target'], color='g');"
      ],
      "execution_count": null,
      "outputs": []
    },
    {
      "cell_type": "code",
      "metadata": {
        "id": "5MpBolr2LX5b"
      },
      "source": [
        "import pandas as pd\n",
        "import numpy as np\n",
        "\n",
        "# generate binary values using get_dummies\n",
        "df = pd.get_dummies(df, columns=['S1','S2','S3','S4','S5'])"
      ],
      "execution_count": null,
      "outputs": []
    },
    {
      "cell_type": "code",
      "metadata": {
        "id": "38BMNlU9St_W"
      },
      "source": [
        "df.head()"
      ],
      "execution_count": null,
      "outputs": []
    },
    {
      "cell_type": "code",
      "metadata": {
        "id": "y6KX08HQJlL4"
      },
      "source": [
        "df.dtypes"
      ],
      "execution_count": null,
      "outputs": []
    },
    {
      "cell_type": "code",
      "metadata": {
        "id": "lQgSEbH9dBhb"
      },
      "source": [
        "df_num = df.select_dtypes(include = ['int64'])\n",
        "df_num.head()"
      ],
      "execution_count": null,
      "outputs": []
    },
    {
      "cell_type": "code",
      "metadata": {
        "id": "nEmfqFl5dFy4"
      },
      "source": [
        "df_num.hist(figsize=(16, 20), bins=50, xlabelsize=8, ylabelsize=8); # ; avoid having the matplotlib verbose informations"
      ],
      "execution_count": null,
      "outputs": []
    },
    {
      "cell_type": "code",
      "metadata": {
        "id": "u70uNFeJdN84"
      },
      "source": [
        "for i in range(0, len(df_num.columns), 5):\n",
        "    sns.pairplot(data=df_num,\n",
        "                x_vars=df_num.columns[i:i+5],\n",
        "                y_vars=['target'])"
      ],
      "execution_count": null,
      "outputs": []
    },
    {
      "cell_type": "code",
      "metadata": {
        "id": "UmzzvdpbdVup"
      },
      "source": [
        "corr = df_num.drop('target', axis=1).corr() # We already examined SalePrice correlations\n",
        "plt.figure(figsize=(12, 10))\n",
        "\n",
        "sns.heatmap(corr[(corr >= 0.5) | (corr <= -0.4)], \n",
        "            cmap='viridis', vmax=1.0, vmin=-1.0, linewidths=0.1,\n",
        "            annot=True, annot_kws={\"size\": 8}, square=True);"
      ],
      "execution_count": null,
      "outputs": []
    },
    {
      "cell_type": "code",
      "metadata": {
        "id": "J0GrXbCJZ-n4"
      },
      "source": [
        "# stratified sampling\n",
        "from sklearn.model_selection import StratifiedShuffleSplit\n",
        "split = StratifiedShuffleSplit(n_splits=1, test_size=0.2, random_state=42)\n",
        "for train_index, test_index in split.split(df, df[\"target\"]):\n",
        "    strat_train_set = df.loc[train_index]\n",
        "    strat_test_set = df.loc[test_index]\n",
        "    \n",
        "for set_ in (strat_train_set, strat_test_set):\n",
        "    set_.drop('target', axis=1, inplace=True)"
      ],
      "execution_count": null,
      "outputs": []
    },
    {
      "cell_type": "code",
      "metadata": {
        "id": "IoqJ8ZK45f-7"
      },
      "source": [
        "\"\"\"\n",
        "================================\n",
        "Nearest Neighbors Classification\n",
        "================================\n",
        "\n",
        "Sample usage of Nearest Neighbors classification.\n",
        "It will plot the decision boundaries for each class.\n",
        "\"\"\"\n",
        "print(__doc__)\n",
        "\n",
        "import numpy as np\n",
        "import matplotlib.pyplot as plt\n",
        "from matplotlib.colors import ListedColormap\n",
        "from sklearn import neighbors, datasets\n",
        "\n",
        "n_neighbors = 3\n",
        "\n",
        "# import the iris data to play with, keep only two input variables in order to make the plots at the end of the script\n",
        "X = df.loc[:, df.columns != 'target']  # we only take the first two features. We could\n",
        "                      # avoid this ugly slicing by using a two-dim dataset\n",
        "y = df.target"
      ],
      "execution_count": null,
      "outputs": []
    },
    {
      "cell_type": "code",
      "metadata": {
        "id": "IVLSfcvS8gj9"
      },
      "source": [
        "X"
      ],
      "execution_count": null,
      "outputs": []
    },
    {
      "cell_type": "code",
      "metadata": {
        "id": "kckWI1Bw_Uy1"
      },
      "source": [
        "y.shape"
      ],
      "execution_count": null,
      "outputs": []
    },
    {
      "cell_type": "code",
      "metadata": {
        "id": "EzcUoufK_kTu"
      },
      "source": [
        "clf = neighbors.KNeighborsClassifier(n_neighbors) # je précise la méthode et ses hyperparamètres\n",
        "clf.fit(X, y) # je lance l'apprentissage"
      ],
      "execution_count": null,
      "outputs": []
    },
    {
      "cell_type": "code",
      "metadata": {
        "id": "oMLIVL-W_vra"
      },
      "source": [
        "# prevision\n",
        "clf.predict(X)"
      ],
      "execution_count": null,
      "outputs": []
    },
    {
      "cell_type": "code",
      "metadata": {
        "id": "s4WcUfWV_yae"
      },
      "source": [
        "clf.score(X,y) # predit + calcul le score = la précision"
      ],
      "execution_count": null,
      "outputs": []
    },
    {
      "cell_type": "code",
      "metadata": {
        "id": "5lKqJQPJ_5vv"
      },
      "source": [
        "import random\n",
        "from sklearn.model_selection import train_test_split\n",
        "X_train,X_test,Y_train,Y_test = train_test_split(X,y,test_size=0.3,random_state=random.seed())\n",
        "print(X_train.shape)\n",
        "print(X_test.shape)"
      ],
      "execution_count": null,
      "outputs": []
    },
    {
      "cell_type": "code",
      "metadata": {
        "id": "V0DGr9azAWJV"
      },
      "source": [
        "n_neighbors=3\n",
        "clf = neighbors.KNeighborsClassifier(n_neighbors) # je précise la méthode et ses hyperparamètres\n",
        "clf.fit(X_train, Y_train) # je lance l'apprentissage\n",
        "prev_test = clf.predict(X_test)\n",
        "sc_train = clf.score(X_train,Y_train)\n",
        "sc_test = clf.score(X_test,Y_test)\n",
        "print(sc_train)\n",
        "print(sc_test)"
      ],
      "execution_count": null,
      "outputs": []
    },
    {
      "cell_type": "code",
      "metadata": {
        "id": "SHA70Q18Aiyv"
      },
      "source": [
        "# Compute the confusion matrix between kmean label and iris types\n",
        "from sklearn.metrics import confusion_matrix\n",
        "\n",
        "cm=confusion_matrix(Y_test,prev_test)\n",
        "# the confusion matrix is difficult to read as labels assigned by kmeans are arbitrary\n",
        "print(cm)"
      ],
      "execution_count": null,
      "outputs": []
    },
    {
      "cell_type": "code",
      "metadata": {
        "id": "kKinPtgFAo9O"
      },
      "source": [
        "# Pour voir l'effet du partage ...\n",
        "\n",
        "from sklearn.model_selection import KFold\n",
        "kf=KFold(n_splits=4, shuffle=True) # partages de validation\n",
        "XXX = X_train[:1000,:]  # je prends uniquement les 12 premières lignes\n",
        "#print(XXX)\n",
        "for learn,test in kf.split(XXX): # boucle sur différents partages de validation\n",
        "  print(\"Learn\")\n",
        "  print(learn)\n",
        "  print(\"test\")\n",
        "  print(test)"
      ],
      "execution_count": null,
      "outputs": []
    },
    {
      "cell_type": "code",
      "metadata": {
        "id": "MHgFpiSxBxko"
      },
      "source": [
        "from sklearn.model_selection import KFold\n",
        "kf=KFold(n_splits=3, shuffle=True) # partages de validation\n",
        "\n",
        "\n",
        "from sklearn import neighbors\n",
        "scores=[]\n",
        "for k in range(1,10):  # les différentes valeurs de k à tester\n",
        "    score=0\n",
        "    clf=neighbors.KNeighborsClassifier(k)\n",
        "    for learn,test in kf.split(X_train): # boucle sur différents partages de validation\n",
        "        X_app=X_train[learn]\n",
        "        Y_app=Y_train[learn]\n",
        "        clf.fit(X_app,Y_app)\n",
        "        X_val=X_train[test]\n",
        "        Y_val=Y_train[test]\n",
        "        score+=clf.score(X_val,Y_val)\n",
        "    scores.append(score)\n",
        "print(scores)\n",
        "#plt(scores)\n",
        "k_opt=scores.index(max(scores)) + 1  # valeur optimale de k\n",
        "print(k_opt)"
      ],
      "execution_count": null,
      "outputs": []
    },
    {
      "cell_type": "code",
      "metadata": {
        "id": "jndR2LKjT2f0"
      },
      "source": [
        "h = .02  # step size in the mesh for the graphics\n",
        "\n",
        "# Create color maps\n",
        "cmap_light = ListedColormap(['#FFAAAA', '#AAFFAA', '#AAAAFF'])\n",
        "cmap_bold = ListedColormap(['#FF0000', '#00FF00', '#0000FF'])"
      ],
      "execution_count": null,
      "outputs": []
    },
    {
      "cell_type": "code",
      "metadata": {
        "id": "EdAVQcSTT6kf"
      },
      "source": [
        "# try two different values for the weights argument in knn\n",
        "\n",
        "for weights in ['uniform', 'distance']:\n",
        "    # we create an instance of Neighbours Classifier and fit the data.\n",
        "    clf = neighbors.KNeighborsClassifier(n_neighbors, weights=weights)\n",
        "    clf.fit(X, y)\n",
        "\n",
        "    # Plot the decision boundary. For that, we will assign a color to each\n",
        "    # point in the mesh [x_min, x_max]x[y_min, y_max].\n",
        "    x_min, x_max = X[:, 0].min() - 1, X[:, 0].max() + 1\n",
        "    y_min, y_max = X[:, 1].min() - 1, X[:, 1].max() + 1\n",
        "    xx, yy = np.meshgrid(np.arange(x_min, x_max, h),\n",
        "                         np.arange(y_min, y_max, h))\n",
        "    Z = clf.predict(np.c_[xx.ravel(), yy.ravel()])\n",
        "\n",
        "    # Put the result into a color plot\n",
        "    Z = Z.reshape(xx.shape)\n",
        "    plt.figure()\n",
        "    plt.pcolormesh(xx, yy, Z, cmap=cmap_light)\n",
        "\n",
        "    # Plot also the training points\n",
        "    plt.scatter(X[:, 0], X[:, 1], c=y, cmap=cmap_bold)\n",
        "    plt.xlim(xx.min(), xx.max())\n",
        "    plt.ylim(yy.min(), yy.max())\n",
        "    plt.title(\"3-Class classification (k = %i, weights = '%s')\"\n",
        "              % (n_neighbors, weights))\n",
        "\n",
        "plt.show()"
      ],
      "execution_count": null,
      "outputs": []
    },
    {
      "cell_type": "code",
      "metadata": {
        "id": "KjSLZSVxXyGp"
      },
      "source": [
        ""
      ],
      "execution_count": null,
      "outputs": []
    },
    {
      "cell_type": "markdown",
      "metadata": {
        "id": "AhJrbQNVX0kX"
      },
      "source": [
        "### Decision tree"
      ]
    },
    {
      "cell_type": "code",
      "metadata": {
        "id": "3tKtIfcHX3QV"
      },
      "source": [
        "import numpy as np\n",
        "from sklearn.datasets import load_digits\n",
        "\n",
        "# https://archive.ics.uci.edu/ml/datasets/Optical+Recognition+of+Handwritten+Digits\n",
        "digits=load_digits()\n",
        "# print(dir(digits))\n",
        "# print(digits.DESCR)\n",
        "X=digits.data\n",
        "Y=digits.target\n",
        "print(digits.data.shape)\n",
        "print(Y)"
      ],
      "execution_count": null,
      "outputs": []
    }
  ]
}